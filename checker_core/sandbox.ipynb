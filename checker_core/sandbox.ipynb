{
 "cells": [
  {
   "cell_type": "code",
   "id": "initial_id",
   "metadata": {
    "collapsed": true,
    "ExecuteTime": {
     "end_time": "2024-04-22T14:35:36.056690Z",
     "start_time": "2024-04-22T14:33:25.248423Z"
    }
   },
   "source": [
    "%%bash\n",
    "\n",
    "openssl s_client -showcerts -connect mos.ru:443"
   ],
   "outputs": [
    {
     "name": "stderr",
     "output_type": "stream",
     "text": [
      "bash: warning: setlocale: LC_ALL: cannot change locale (en_US.UTF-8)\n",
      "40174C5B817F0000:error:8000006E:system library:BIO_connect:Connection timed out:../crypto/bio/bio_sock2.c:125:calling connect()\n",
      "40174C5B817F0000:error:10000067:BIO routines:BIO_connect:connect error:../crypto/bio/bio_sock2.c:127:\n",
      "connect:errno=110\n"
     ]
    },
    {
     "ename": "CalledProcessError",
     "evalue": "Command 'b'\\nopenssl s_client -showcerts -connect mos.ru:443\\n'' returned non-zero exit status 1.",
     "output_type": "error",
     "traceback": [
      "\u001B[0;31m---------------------------------------------------------------------------\u001B[0m",
      "\u001B[0;31mCalledProcessError\u001B[0m                        Traceback (most recent call last)",
      "Cell \u001B[0;32mIn[18], line 1\u001B[0m\n\u001B[0;32m----> 1\u001B[0m \u001B[43mget_ipython\u001B[49m\u001B[43m(\u001B[49m\u001B[43m)\u001B[49m\u001B[38;5;241;43m.\u001B[39;49m\u001B[43mrun_cell_magic\u001B[49m\u001B[43m(\u001B[49m\u001B[38;5;124;43m'\u001B[39;49m\u001B[38;5;124;43mbash\u001B[39;49m\u001B[38;5;124;43m'\u001B[39;49m\u001B[43m,\u001B[49m\u001B[43m \u001B[49m\u001B[38;5;124;43m'\u001B[39;49m\u001B[38;5;124;43m'\u001B[39;49m\u001B[43m,\u001B[49m\u001B[43m \u001B[49m\u001B[38;5;124;43m'\u001B[39;49m\u001B[38;5;130;43;01m\\n\u001B[39;49;00m\u001B[38;5;124;43mopenssl s_client -showcerts -connect mos.ru:443\u001B[39;49m\u001B[38;5;130;43;01m\\n\u001B[39;49;00m\u001B[38;5;124;43m'\u001B[39;49m\u001B[43m)\u001B[49m\n",
      "File \u001B[0;32m~/.local/lib/python3.10/site-packages/IPython/core/interactiveshell.py:2541\u001B[0m, in \u001B[0;36mInteractiveShell.run_cell_magic\u001B[0;34m(self, magic_name, line, cell)\u001B[0m\n\u001B[1;32m   2539\u001B[0m \u001B[38;5;28;01mwith\u001B[39;00m \u001B[38;5;28mself\u001B[39m\u001B[38;5;241m.\u001B[39mbuiltin_trap:\n\u001B[1;32m   2540\u001B[0m     args \u001B[38;5;241m=\u001B[39m (magic_arg_s, cell)\n\u001B[0;32m-> 2541\u001B[0m     result \u001B[38;5;241m=\u001B[39m \u001B[43mfn\u001B[49m\u001B[43m(\u001B[49m\u001B[38;5;241;43m*\u001B[39;49m\u001B[43margs\u001B[49m\u001B[43m,\u001B[49m\u001B[43m \u001B[49m\u001B[38;5;241;43m*\u001B[39;49m\u001B[38;5;241;43m*\u001B[39;49m\u001B[43mkwargs\u001B[49m\u001B[43m)\u001B[49m\n\u001B[1;32m   2543\u001B[0m \u001B[38;5;66;03m# The code below prevents the output from being displayed\u001B[39;00m\n\u001B[1;32m   2544\u001B[0m \u001B[38;5;66;03m# when using magics with decorator @output_can_be_silenced\u001B[39;00m\n\u001B[1;32m   2545\u001B[0m \u001B[38;5;66;03m# when the last Python token in the expression is a ';'.\u001B[39;00m\n\u001B[1;32m   2546\u001B[0m \u001B[38;5;28;01mif\u001B[39;00m \u001B[38;5;28mgetattr\u001B[39m(fn, magic\u001B[38;5;241m.\u001B[39mMAGIC_OUTPUT_CAN_BE_SILENCED, \u001B[38;5;28;01mFalse\u001B[39;00m):\n",
      "File \u001B[0;32m~/.local/lib/python3.10/site-packages/IPython/core/magics/script.py:155\u001B[0m, in \u001B[0;36mScriptMagics._make_script_magic.<locals>.named_script_magic\u001B[0;34m(line, cell)\u001B[0m\n\u001B[1;32m    153\u001B[0m \u001B[38;5;28;01melse\u001B[39;00m:\n\u001B[1;32m    154\u001B[0m     line \u001B[38;5;241m=\u001B[39m script\n\u001B[0;32m--> 155\u001B[0m \u001B[38;5;28;01mreturn\u001B[39;00m \u001B[38;5;28;43mself\u001B[39;49m\u001B[38;5;241;43m.\u001B[39;49m\u001B[43mshebang\u001B[49m\u001B[43m(\u001B[49m\u001B[43mline\u001B[49m\u001B[43m,\u001B[49m\u001B[43m \u001B[49m\u001B[43mcell\u001B[49m\u001B[43m)\u001B[49m\n",
      "File \u001B[0;32m~/.local/lib/python3.10/site-packages/IPython/core/magics/script.py:315\u001B[0m, in \u001B[0;36mScriptMagics.shebang\u001B[0;34m(self, line, cell)\u001B[0m\n\u001B[1;32m    310\u001B[0m \u001B[38;5;28;01mif\u001B[39;00m args\u001B[38;5;241m.\u001B[39mraise_error \u001B[38;5;129;01mand\u001B[39;00m p\u001B[38;5;241m.\u001B[39mreturncode \u001B[38;5;241m!=\u001B[39m \u001B[38;5;241m0\u001B[39m:\n\u001B[1;32m    311\u001B[0m     \u001B[38;5;66;03m# If we get here and p.returncode is still None, we must have\u001B[39;00m\n\u001B[1;32m    312\u001B[0m     \u001B[38;5;66;03m# killed it but not yet seen its return code. We don't wait for it,\u001B[39;00m\n\u001B[1;32m    313\u001B[0m     \u001B[38;5;66;03m# in case it's stuck in uninterruptible sleep. -9 = SIGKILL\u001B[39;00m\n\u001B[1;32m    314\u001B[0m     rc \u001B[38;5;241m=\u001B[39m p\u001B[38;5;241m.\u001B[39mreturncode \u001B[38;5;129;01mor\u001B[39;00m \u001B[38;5;241m-\u001B[39m\u001B[38;5;241m9\u001B[39m\n\u001B[0;32m--> 315\u001B[0m     \u001B[38;5;28;01mraise\u001B[39;00m CalledProcessError(rc, cell)\n",
      "\u001B[0;31mCalledProcessError\u001B[0m: Command 'b'\\nopenssl s_client -showcerts -connect mos.ru:443\\n'' returned non-zero exit status 1."
     ]
    }
   ],
   "execution_count": 18
  },
  {
   "metadata": {
    "ExecuteTime": {
     "end_time": "2024-04-22T14:30:20.538500Z",
     "start_time": "2024-04-22T14:29:38.296134Z"
    }
   },
   "cell_type": "code",
   "source": [
    "%%bash\n",
    "\n",
    "#!/bin/bash\n",
    "\n",
    "get_certificate_info() {\n",
    "    local site=\"$1\"\n",
    "    echo \"=== Сертификат для $site ===\"\n",
    "    timeout 7 openssl s_client -showcerts -connect \"$site\":443 </dev/null 2>/dev/null | \\\n",
    "        openssl x509 -noout -issuer -subject\n",
    "}\n",
    "\n",
    "sites_file=\"../BlockingLists/russianWebsites.txt\"\n",
    "\n",
    "while IFS= read -r site || [ -n \"$site\" ]; do\n",
    "    get_certificate_info \"$site\"\n",
    "done < \"$sites_file\"\n"
   ],
   "id": "8834c303da43f4de",
   "outputs": [
    {
     "name": "stderr",
     "output_type": "stream",
     "text": [
      "bash: warning: setlocale: LC_ALL: cannot change locale (en_US.UTF-8)\n"
     ]
    },
    {
     "name": "stdout",
     "output_type": "stream",
     "text": [
      "=== Сертификат для vk.com ===\n",
      "issuer=C = BE, O = GlobalSign nv-sa, CN = GlobalSign ECC OV SSL CA 2018\n",
      "subject=C = RU, ST = Saint Petersburg, L = Saint Petersburg, O = V Kontakte LLC, CN = *.vk.com\n",
      "=== Сертификат для gosuslugi.ru ===\n",
      "issuer=C = BE, O = GlobalSign nv-sa, CN = GlobalSign GCC R3 DV TLS CA 2020\n",
      "subject=CN = *.gosuslugi.ru\n",
      "=== Сертификат для ria.ru ===\n",
      "issuer=C = BE, O = GlobalSign nv-sa, CN = GlobalSign GCC R3 DV TLS CA 2020\n",
      "subject=CN = *.ria.ru\n",
      "=== Сертификат для rt.com ===\n",
      "issuer=C = US, O = Let's Encrypt, CN = R3\n",
      "subject=CN = *.rt.com\n",
      "=== Сертификат для lenta.ru ===\n",
      "issuer=C = BE, O = GlobalSign nv-sa, CN = GlobalSign GCC R3 DV TLS CA 2020\n",
      "subject=CN = *.lenta.ru\n",
      "=== Сертификат для tass.ru ===\n"
     ]
    },
    {
     "name": "stderr",
     "output_type": "stream",
     "text": [
      "Could not read certificate from <stdin>\n",
      "Unable to load certificate\n"
     ]
    },
    {
     "name": "stdout",
     "output_type": "stream",
     "text": [
      "=== Сертификат для regnum.ru ===\n",
      "issuer=C = BE, O = GlobalSign nv-sa, CN = AlphaSSL CA - SHA256 - G4\n",
      "subject=CN = *.regnum.ru\n",
      "=== Сертификат для russian.rt.com ===\n",
      "issuer=C = US, O = Let's Encrypt, CN = R3\n",
      "subject=CN = *.rt.com\n",
      "=== Сертификат для vesti.ru ===\n"
     ]
    },
    {
     "name": "stderr",
     "output_type": "stream",
     "text": [
      "Could not read certificate from <stdin>\n",
      "Unable to load certificate\n"
     ]
    },
    {
     "name": "stdout",
     "output_type": "stream",
     "text": [
      "=== Сертификат для svpressa.ru ===\n",
      "issuer=C = BE, O = GlobalSign nv-sa, CN = GlobalSign RSA OV SSL CA 2018\n",
      "subject=C = RU, ST = \\D0\\9C\\D0\\BE\\D1\\81\\D0\\BA\\D0\\B2\\D0\\B0, L = \\D0\\9C\\D0\\BE\\D1\\81\\D0\\BA\\D0\\B2\\D0\\B0, O = \\D0\\90\\D0\\9D\\D0\\9E \\D0\\98\\D0\\BD\\D0\\9F\\D1\\80\\D0\\B5\\D1\\81\\D1\\81, CN = *.svpressa.ru\n",
      "=== Сертификат для iz.ru ===\n",
      "issuer=C = BE, O = GlobalSign nv-sa, CN = GlobalSign GCC R3 DV TLS CA 2020\n",
      "subject=CN = *.iz.ru\n",
      "=== Сертификат для vz.ru ===\n",
      "issuer=C = BE, O = GlobalSign nv-sa, CN = AlphaSSL CA - SHA256 - G4\n",
      "subject=CN = *.vz.ru\n",
      "=== Сертификат для rg.ru ===\n",
      "issuer=C = BE, O = GlobalSign nv-sa, CN = AlphaSSL CA - SHA256 - G4\n",
      "subject=CN = *.rg.ru\n",
      "=== Сертификат для admburla.ru ===\n",
      "issuer=C = RU, O = The Ministry of Digital Development and Communications, CN = Russian Trusted Sub CA\n",
      "subject=C = RU, ST = \\D0\\90\\D0\\BB\\D1\\82\\D0\\B0\\D0\\B9\\D1\\81\\D0\\BA\\D0\\B8\\D0\\B9 \\D0\\BA\\D1\\80\\D0\\B0\\D0\\B9, L = \\D0\\91\\D1\\83\\D1\\80\\D0\\BB\\D0\\B0, O = \\D0\\90\\D0\\B4\\D0\\BC\\D0\\B8\\D0\\BD\\D0\\B8\\D1\\81\\D1\\82\\D1\\80\\D0\\B0\\D1\\86\\D0\\B8\\D1\\8F \\D0\\91\\D1\\83\\D1\\80\\D0\\BB\\D0\\B8\\D0\\BD\\D1\\81\\D0\\BA\\D0\\BE\\D0\\B3\\D0\\BE \\D1\\80\\D0\\B0\\D0\\B9\\D0\\BE\\D0\\BD\\D0\\B0 \\D0\\90\\D0\\BB\\D1\\82\\D0\\B0\\D0\\B9\\D1\\81\\D0\\BA\\D0\\BE\\D0\\B3\\D0\\BE \\D0\\BA\\D1\\80\\D0\\B0\\D1\\8F, CN = *.admburla.ru\n",
      "=== Сертификат для rosguard.gov.ru ===\n"
     ]
    },
    {
     "name": "stderr",
     "output_type": "stream",
     "text": [
      "Could not read certificate from <stdin>\n",
      "Unable to load certificate\n"
     ]
    },
    {
     "name": "stdout",
     "output_type": "stream",
     "text": [
      "=== Сертификат для mos.ru ===\n"
     ]
    },
    {
     "name": "stderr",
     "output_type": "stream",
     "text": [
      "Could not read certificate from <stdin>\n",
      "Unable to load certificate\n"
     ]
    },
    {
     "name": "stdout",
     "output_type": "stream",
     "text": [
      "=== Сертификат для pochta.ru ===\n"
     ]
    },
    {
     "name": "stderr",
     "output_type": "stream",
     "text": [
      "Could not read certificate from <stdin>\n",
      "Unable to load certificate\n"
     ]
    },
    {
     "name": "stdout",
     "output_type": "stream",
     "text": [
      "=== Сертификат для rt.ru ===\n",
      "issuer=C = BE, O = GlobalSign nv-sa, CN = GlobalSign GCC R3 DV TLS CA 2020\n",
      "subject=CN = *.rt.ru\n",
      "=== Сертификат для nalog.ru ===\n",
      "issuer=C = US, O = Let's Encrypt, CN = R3\n",
      "subject=CN = nalog.ru\n"
     ]
    }
   ],
   "execution_count": 17
  },
  {
   "metadata": {
    "ExecuteTime": {
     "end_time": "2024-04-22T14:30:20.544216Z",
     "start_time": "2024-04-22T14:30:20.541262Z"
    }
   },
   "cell_type": "code",
   "source": "",
   "id": "fb8dafff6b54c683",
   "outputs": [],
   "execution_count": 17
  },
  {
   "metadata": {
    "ExecuteTime": {
     "end_time": "2024-04-22T14:30:20.549332Z",
     "start_time": "2024-04-22T14:30:20.546312Z"
    }
   },
   "cell_type": "code",
   "source": "",
   "id": "dd03f2de5d6c28f3",
   "outputs": [],
   "execution_count": 17
  }
 ],
 "metadata": {
  "kernelspec": {
   "display_name": "Python 3",
   "language": "python",
   "name": "python3"
  },
  "language_info": {
   "codemirror_mode": {
    "name": "ipython",
    "version": 2
   },
   "file_extension": ".py",
   "mimetype": "text/x-python",
   "name": "python",
   "nbconvert_exporter": "python",
   "pygments_lexer": "ipython2",
   "version": "2.7.6"
  }
 },
 "nbformat": 4,
 "nbformat_minor": 5
}
