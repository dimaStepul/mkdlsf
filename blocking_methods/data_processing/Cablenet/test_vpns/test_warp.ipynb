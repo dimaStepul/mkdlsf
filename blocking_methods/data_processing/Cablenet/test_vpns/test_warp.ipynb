{
 "cells": [
  {
   "cell_type": "code",
   "id": "initial_id",
   "metadata": {
    "collapsed": true,
    "ExecuteTime": {
     "end_time": "2024-04-25T09:50:48.184734Z",
     "start_time": "2024-04-25T09:50:48.180703Z"
    }
   },
   "source": [
    "import threading\n",
    "import pandas as pd\n",
    "import matplotlib.pyplot as plt\n",
    "import seaborn as sns\n",
    "\n",
    "\n",
    "\n",
    "columns = [\"Website\",'test_name', 'HTTP status code', \"Success\", \"Redirected to ISP Payload\"]\n",
    "df = pd.DataFrame(columns=columns)\n",
    "\n",
    "text_file = \"../../../../BlockingLists/russianWebsites.txt\"\n",
    "\n",
    "\n",
    "cyta_payload = \"This site can’t be reached due tο compliance the Council Regulation (EU) 350/2022 and with EU and National Laws, only for as long as necessary.\"\n",
    "\n",
    "\n",
    "def find_payload(text):\n",
    "   if cyta_payload in text:\n",
    "       return True\n",
    "   else: \n",
    "       return False"
   ],
   "outputs": [],
   "execution_count": 1
  },
  {
   "metadata": {
    "ExecuteTime": {
     "end_time": "2024-04-25T09:58:23.987902Z",
     "start_time": "2024-04-25T09:50:48.186174Z"
    }
   },
   "cell_type": "code",
   "source": [
    "from blocking_methods.data_processing.usual_requests import test_http_or_https\n",
    "\n",
    "\n",
    "def test_sites_from_file(filename):\n",
    "    with open(filename, \"r\") as file:\n",
    "        websites = [line.strip() for line in file]\n",
    "\n",
    "    threads = []\n",
    "    for site in websites:\n",
    "        thread = threading.Thread(target=process_site, args=(site,))\n",
    "        thread.start()\n",
    "        threads.append(thread)\n",
    "    for thread in threads:\n",
    "        thread.join()\n",
    "\n",
    "\n",
    "def process_site(site):\n",
    "    df_row = test_http_or_https(site)\n",
    "    df.loc[len(df)] = df_row\n",
    "\n",
    "\n",
    "# def test_sites_from_file(filename):\n",
    "#     with open(filename, \"r\") as file:\n",
    "#         websites = [line.strip() for line in file]\n",
    "# \n",
    "#     for site in websites:\n",
    "#         process_site(site)\n",
    "# \n",
    "# \n",
    "# def process_site(site):\n",
    "#     df_row = test_http_or_https(site)\n",
    "#     df.loc[len(df)] = df_row\n",
    "\n",
    "\n",
    "test_sites_from_file(text_file)     \n"
   ],
   "id": "2f66602c3f36662b",
   "outputs": [
    {
     "name": "stdout",
     "output_type": "stream",
     "text": [
      "Trying vk.com\n",
      "Trying gosuslugi.ru\n",
      "Trying ria.ru\n",
      "Trying rt.com\n",
      "Trying lenta.ru\n",
      "Trying tass.ru\n",
      "Trying regnum.ru\n",
      "Trying russian.rt.com\n",
      "Trying vesti.ru\n",
      "Trying svpressa.ru\n",
      "Trying iz.ru\n",
      "Trying vz.ru\n",
      "Trying rg.ru\n",
      "Trying admburla.ru\n",
      "Trying rosguard.gov.ru\n",
      "Trying mos.ru\n",
      "Trying pochta.ru\n",
      "Trying rt.ru\n",
      "Trying nalog.ru\n",
      "Trying aeroflot.ru\n",
      "Trying voskhod.ru\n",
      "An error occurred: HTTPSConnectionPool(host='admburla.ru', port=443): Max retries exceeded with url: / (Caused by SSLError(SSLCertVerificationError(1, '[SSL: CERTIFICATE_VERIFY_FAILED] certificate verify failed: self-signed certificate in certificate chain (_ssl.c:1007)')))\n",
      "after redirections: gosuslugi.ru\n",
      "after redirections: aeroflot.ru\n",
      "after redirections: vz.ru\n",
      "after redirections: ria.ru\n",
      "An error occurred: Invalid input ConnectionInputs.RECV_HEADERS in state ConnectionState.CLOSED\n",
      "after redirections: svpressa.ru\n",
      "after redirections: iz.ru\n",
      "after redirections: lenta.ru\n",
      "after redirections: tass.ru\n",
      "after redirections: russian.rt.com\n",
      "after redirections: regnum.ru\n",
      "after redirections: rg.ru\n",
      "after redirections: rt.com\n",
      "after redirections: voskhod.ru\n",
      "after redirections: vesti.ru\n",
      "after redirections: nalog.ru\n",
      "after redirections: vk.com\n"
     ]
    },
    {
     "ename": "KeyboardInterrupt",
     "evalue": "",
     "output_type": "error",
     "traceback": [
      "\u001B[0;31m---------------------------------------------------------------------------\u001B[0m",
      "\u001B[0;31mKeyboardInterrupt\u001B[0m                         Traceback (most recent call last)",
      "Cell \u001B[0;32mIn[2], line 35\u001B[0m\n\u001B[1;32m     19\u001B[0m     df\u001B[38;5;241m.\u001B[39mloc[\u001B[38;5;28mlen\u001B[39m(df)] \u001B[38;5;241m=\u001B[39m df_row\n\u001B[1;32m     22\u001B[0m \u001B[38;5;66;03m# def test_sites_from_file(filename):\u001B[39;00m\n\u001B[1;32m     23\u001B[0m \u001B[38;5;66;03m#     with open(filename, \"r\") as file:\u001B[39;00m\n\u001B[1;32m     24\u001B[0m \u001B[38;5;66;03m#         websites = [line.strip() for line in file]\u001B[39;00m\n\u001B[0;32m   (...)\u001B[0m\n\u001B[1;32m     31\u001B[0m \u001B[38;5;66;03m#     df_row = test_http_or_https(site)\u001B[39;00m\n\u001B[1;32m     32\u001B[0m \u001B[38;5;66;03m#     df.loc[len(df)] = df_row\u001B[39;00m\n\u001B[0;32m---> 35\u001B[0m \u001B[43mtest_sites_from_file\u001B[49m\u001B[43m(\u001B[49m\u001B[43mtext_file\u001B[49m\u001B[43m)\u001B[49m     \n",
      "Cell \u001B[0;32mIn[2], line 14\u001B[0m, in \u001B[0;36mtest_sites_from_file\u001B[0;34m(filename)\u001B[0m\n\u001B[1;32m     12\u001B[0m     threads\u001B[38;5;241m.\u001B[39mappend(thread)\n\u001B[1;32m     13\u001B[0m \u001B[38;5;28;01mfor\u001B[39;00m thread \u001B[38;5;129;01min\u001B[39;00m threads:\n\u001B[0;32m---> 14\u001B[0m     \u001B[43mthread\u001B[49m\u001B[38;5;241;43m.\u001B[39;49m\u001B[43mjoin\u001B[49m\u001B[43m(\u001B[49m\u001B[43m)\u001B[49m\n",
      "File \u001B[0;32m/usr/lib/python3.10/threading.py:1096\u001B[0m, in \u001B[0;36mThread.join\u001B[0;34m(self, timeout)\u001B[0m\n\u001B[1;32m   1093\u001B[0m     \u001B[38;5;28;01mraise\u001B[39;00m \u001B[38;5;167;01mRuntimeError\u001B[39;00m(\u001B[38;5;124m\"\u001B[39m\u001B[38;5;124mcannot join current thread\u001B[39m\u001B[38;5;124m\"\u001B[39m)\n\u001B[1;32m   1095\u001B[0m \u001B[38;5;28;01mif\u001B[39;00m timeout \u001B[38;5;129;01mis\u001B[39;00m \u001B[38;5;28;01mNone\u001B[39;00m:\n\u001B[0;32m-> 1096\u001B[0m     \u001B[38;5;28;43mself\u001B[39;49m\u001B[38;5;241;43m.\u001B[39;49m\u001B[43m_wait_for_tstate_lock\u001B[49m\u001B[43m(\u001B[49m\u001B[43m)\u001B[49m\n\u001B[1;32m   1097\u001B[0m \u001B[38;5;28;01melse\u001B[39;00m:\n\u001B[1;32m   1098\u001B[0m     \u001B[38;5;66;03m# the behavior of a negative timeout isn't documented, but\u001B[39;00m\n\u001B[1;32m   1099\u001B[0m     \u001B[38;5;66;03m# historically .join(timeout=x) for x<0 has acted as if timeout=0\u001B[39;00m\n\u001B[1;32m   1100\u001B[0m     \u001B[38;5;28mself\u001B[39m\u001B[38;5;241m.\u001B[39m_wait_for_tstate_lock(timeout\u001B[38;5;241m=\u001B[39m\u001B[38;5;28mmax\u001B[39m(timeout, \u001B[38;5;241m0\u001B[39m))\n",
      "File \u001B[0;32m/usr/lib/python3.10/threading.py:1116\u001B[0m, in \u001B[0;36mThread._wait_for_tstate_lock\u001B[0;34m(self, block, timeout)\u001B[0m\n\u001B[1;32m   1113\u001B[0m     \u001B[38;5;28;01mreturn\u001B[39;00m\n\u001B[1;32m   1115\u001B[0m \u001B[38;5;28;01mtry\u001B[39;00m:\n\u001B[0;32m-> 1116\u001B[0m     \u001B[38;5;28;01mif\u001B[39;00m \u001B[43mlock\u001B[49m\u001B[38;5;241;43m.\u001B[39;49m\u001B[43macquire\u001B[49m\u001B[43m(\u001B[49m\u001B[43mblock\u001B[49m\u001B[43m,\u001B[49m\u001B[43m \u001B[49m\u001B[43mtimeout\u001B[49m\u001B[43m)\u001B[49m:\n\u001B[1;32m   1117\u001B[0m         lock\u001B[38;5;241m.\u001B[39mrelease()\n\u001B[1;32m   1118\u001B[0m         \u001B[38;5;28mself\u001B[39m\u001B[38;5;241m.\u001B[39m_stop()\n",
      "\u001B[0;31mKeyboardInterrupt\u001B[0m: "
     ]
    }
   ],
   "execution_count": 2
  },
  {
   "metadata": {},
   "cell_type": "code",
   "source": [
    "import matplotlib.pyplot as plt\n",
    "import seaborn as sns\n",
    "\n",
    "website_status_counts = df.groupby(['Website', 'HTTP status code']).size().unstack(fill_value=0)\n",
    "\n",
    "colors = sns.color_palette('bright', len(website_status_counts.columns))\n",
    "\n",
    "plt.figure(figsize=(15, 10))\n",
    "for http_status_code, data, color in zip(website_status_counts.columns, website_status_counts.values.T, colors):\n",
    "    sns.barplot(x=data, y=website_status_counts.index, color=color, label=http_status_code)\n",
    "\n",
    "plt.title('HTTP Status Code for Websites', fontsize=20)\n",
    "plt.ylabel('Website', fontsize=16)\n",
    "plt.legend(title='HTTP Status Code', title_fontsize='large', fontsize='large', bbox_to_anchor=(1.05, 1), loc='upper left', labelspacing=1.5)\n",
    "plt.xticks(fontsize=12)\n",
    "plt.yticks(fontsize=12)\n",
    "plt.tight_layout()\n",
    "plt.gca().set_xticklabels([])\n",
    "plt.savefig('http_status_code_distribution.png', dpi=300)\n",
    "plt.show()\n"
   ],
   "id": "d254bdd01e97defa",
   "outputs": [],
   "execution_count": null
  },
  {
   "metadata": {},
   "cell_type": "code",
   "source": [
    "plt.figure(figsize=(10,6))\n",
    "sns.countplot(y='Website', hue='Success', data=df, order=df['Website'].value_counts().index[:])\n",
    "plt.title('Distribution of successful requests by domain ')\n",
    "plt.ylabel('Domain name')\n",
    "plt.xlabel('')\n",
    "plt.legend(title='Success', loc='lower right')\n",
    "plt.gca().set_xticklabels([])\n",
    "plt.show()\n"
   ],
   "id": "d26ac8db098c5cd7",
   "outputs": [],
   "execution_count": null
  },
  {
   "metadata": {},
   "cell_type": "code",
   "source": [
    "http_status_counts = df.groupby(['HTTP status code', 'Success']).size().unstack(fill_value=0)\n",
    "\n",
    "http_status_counts.plot(kind='bar', stacked=True, figsize=(12, 8))\n",
    "plt.title('Successful and unsuccessful requests by HTTP status code')\n",
    "plt.xlabel('HTTP status code')\n",
    "plt.ylabel('Amount of requests')\n",
    "plt.legend(title='Success', loc='upper right')\n",
    "plt.show()\n"
   ],
   "id": "751ddc30bdb04d3",
   "outputs": [],
   "execution_count": null
  },
  {
   "metadata": {},
   "cell_type": "code",
   "source": [
    "plt.figure(figsize=(8, 8))\n",
    "df['HTTP status code'].value_counts().plot(kind='pie', autopct='%1.1f%%',  colors=['blue', 'green', 'coral', 'lightskyblue', 'lightpink'])\n",
    "plt.title('Distribution of HTTP Status Codes')\n",
    "plt.ylabel('')\n",
    "plt.show()\n",
    "\n"
   ],
   "id": "9e05b0b7509b1ec7",
   "outputs": [],
   "execution_count": null
  },
  {
   "metadata": {},
   "cell_type": "code",
   "source": [
    "success_counts = df['Success'].value_counts()\n",
    "labels = success_counts.index\n",
    "sizes = success_counts.values\n",
    "plt.figure(figsize=(8, 8))\n",
    "plt.pie(sizes, labels=labels, autopct='%1.1f%%', startangle=140, colors=['lightgreen', 'lightcoral'])\n",
    "plt.title('Amount of successful requests')\n",
    "plt.axis('equal')\n",
    "plt.show()\n"
   ],
   "id": "38161431c25a4f8a",
   "outputs": [],
   "execution_count": null
  },
  {
   "metadata": {},
   "cell_type": "code",
   "source": [
    "success_counts = df['Success'].value_counts()\n",
    "plt.figure(figsize=(6, 4))\n",
    "success_counts.plot(kind='bar', color=['lightgreen', 'lightcoral'])\n",
    "plt.title('Amount of successful requests')\n",
    "plt.xlabel('Success')\n",
    "plt.ylabel('Amout of requests')\n",
    "plt.xticks(ticks=[0, 1], labels=['True', 'False'], rotation=0)\n",
    "plt.show()\n"
   ],
   "id": "e347a4411feafbef",
   "outputs": [],
   "execution_count": null
  }
 ],
 "metadata": {
  "kernelspec": {
   "display_name": "Python 3",
   "language": "python",
   "name": "python3"
  },
  "language_info": {
   "codemirror_mode": {
    "name": "ipython",
    "version": 2
   },
   "file_extension": ".py",
   "mimetype": "text/x-python",
   "name": "python",
   "nbconvert_exporter": "python",
   "pygments_lexer": "ipython2",
   "version": "2.7.6"
  }
 },
 "nbformat": 4,
 "nbformat_minor": 5
}
