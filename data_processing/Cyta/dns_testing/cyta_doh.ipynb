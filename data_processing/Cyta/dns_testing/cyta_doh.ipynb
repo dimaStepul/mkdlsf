{
 "cells": [
  {
   "cell_type": "code",
   "execution_count": null,
   "id": "initial_id",
   "metadata": {
    "collapsed": true
   },
   "outputs": [],
   "source": [
    "import threading\n",
    "import pandas as pd\n",
    "import matplotlib.pyplot as plt\n",
    "import seaborn as sns\n",
    "\n",
    "\n",
    "\n",
    "columns = [\"Website\",'test_name', 'HTTP status code', \"Success\", \"Redirected to ISP Payload\"]\n",
    "df = pd.DataFrame(columns=columns)\n",
    "\n",
    "text_file = \"../../../../BlockingLists/russianWebsites.txt\"\n",
    "\n",
    "\n",
    "cyta_payload = \"This site can’t be reached due tο compliance the Council Regulation (EU) 350/2022 and with EU and National Laws, only for as long as necessary.\"\n",
    "\n",
    "\n",
    "def find_payload(text):\n",
    "   if cyta_payload in text:\n",
    "       return True\n",
    "   else: \n",
    "       return False"
   ]
  },
  {
   "metadata": {},
   "cell_type": "code",
   "outputs": [],
   "execution_count": null,
   "source": "",
   "id": "c8427193dd97abb2"
  }
 ],
 "metadata": {
  "kernelspec": {
   "display_name": "Python 3",
   "language": "python",
   "name": "python3"
  },
  "language_info": {
   "codemirror_mode": {
    "name": "ipython",
    "version": 2
   },
   "file_extension": ".py",
   "mimetype": "text/x-python",
   "name": "python",
   "nbconvert_exporter": "python",
   "pygments_lexer": "ipython2",
   "version": "2.7.6"
  }
 },
 "nbformat": 4,
 "nbformat_minor": 5
}
