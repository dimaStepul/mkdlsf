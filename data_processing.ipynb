{
 "cells": [
  {
   "cell_type": "code",
   "execution_count": null,
   "metadata": {},
   "outputs": [],
   "source": [
    "import requests\n",
    "import pandas as pd\n",
    "\n",
    "\n",
    "def send_get_request(data):\n",
    "    response = requests.get(data)\n",
    "    return response\n",
    "\n",
    "\n",
    "df = pd.DataFrame(columns=[\"Request Type\", \"Response\", \"Is Redirect\"])\n",
    "\n",
    "get_requests = {\n",
    "    \"extra space after  GET\": \"GET  {} HTTP/1.0\\r\\n\".format(urn)\n",
    "    + \"Host: {}\\r\\nConnection: close\\r\\n\\r\\n\".format(host),\n",
    "}\n",
    "\n",
    "for request_type, data in get_requests.items():\n",
    "    response = send_get_request(data)\n",
    "    is_redirect = (\n",
    "        \"This site can’t be reached due tο compliance the Council Regulation (EU) 350/2022 and with EU and National Laws, only for as long as necessary.\"\n",
    "        in response.text\n",
    "    )\n",
    "    df = df.append(\n",
    "        {\n",
    "            \"Request Type\": request_type,\n",
    "            \"Response\": response,\n",
    "            \"Is Redirect\": is_redirect,\n",
    "        },\n",
    "        ignore_index=True,\n",
    "    )"
   ]
  }
 ],
 "metadata": {
  "language_info": {
   "name": "python"
  }
 },
 "nbformat": 4,
 "nbformat_minor": 2
}
